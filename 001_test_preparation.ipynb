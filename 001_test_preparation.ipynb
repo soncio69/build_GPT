{
 "cells": [
  {
   "cell_type": "markdown",
   "id": "757d7ea4-f324-44c4-94b5-8038223132ef",
   "metadata": {},
   "source": [
    "# Creazione di un basic tokenizer\n",
    "\n",
    "Come primo step scarico un testo da utilizzare "
   ]
  },
  {
   "cell_type": "code",
   "execution_count": 2,
   "id": "7d2a6132-3eda-4685-8617-8a4508fa60a5",
   "metadata": {},
   "outputs": [
    {
     "data": {
      "text/plain": [
       "('the-verdict.txt', <http.client.HTTPMessage at 0x7c1cd843d990>)"
      ]
     },
     "execution_count": 2,
     "metadata": {},
     "output_type": "execute_result"
    }
   ],
   "source": [
    "import urllib.request\n",
    "url = (\"https://raw.githubusercontent.com/rasbt/\"\n",
    "       \"LLMs-from-scratch/main/ch02/01_main-chapter-code/\"\n",
    "       \"the-verdict.txt\")\n",
    "file_path = \"the-verdict.txt\"\n",
    "urllib.request.urlretrieve(url, file_path)"
   ]
  },
  {
   "cell_type": "markdown",
   "id": "763e2d65-b100-419e-9aeb-6e020d4b59c1",
   "metadata": {},
   "source": [
    "Una volta scaricato il testo viene letto in formato testo in una stringa"
   ]
  },
  {
   "cell_type": "code",
   "execution_count": 3,
   "id": "6d9ea5ac-038b-44e9-a142-252859290a73",
   "metadata": {},
   "outputs": [
    {
     "name": "stdout",
     "output_type": "stream",
     "text": [
      "Total number of character: 20479\n",
      "I HAD always thought Jack Gisburn rather a cheap genius--though a good fellow enough--so it was no \n"
     ]
    }
   ],
   "source": [
    "with open(\"the-verdict.txt\", \"r\", encoding=\"utf-8\") as f:\n",
    "    raw_text = f.read()\n",
    "print(\"Total number of character:\", len(raw_text))\n",
    "print(raw_text[:99])"
   ]
  },
  {
   "cell_type": "markdown",
   "id": "4feb4668-b9de-4f3a-b19a-6c71aeefb433",
   "metadata": {},
   "source": [
    "Obiettivo è quello di convertire questo testo nelle singole word e caratteri speciali che lo compongono in modo da poterli successivamente convertire in embeddings.\n",
    "\n",
    "Ci sono diversi modi x suddividere un testo in tokens. Una possibilità è utilizzare regexp.\n",
    "\n",
    "Ad esempio per suddividere sulla base del carattere \"spazio\""
   ]
  },
  {
   "cell_type": "code",
   "execution_count": 4,
   "id": "2c1de7cb-ad68-40a2-98eb-f7588111b792",
   "metadata": {},
   "outputs": [
    {
     "name": "stdout",
     "output_type": "stream",
     "text": [
      "['Hello,', ' ', 'world.', ' ', 'This,', ' ', 'is', ' ', 'a', ' ', 'test.']\n"
     ]
    }
   ],
   "source": [
    "import re\n",
    "text = \"Hello, world. This, is a test.\"\n",
    "result = re.split(r'(\\s)', text)\n",
    "print(result)"
   ]
  },
  {
   "cell_type": "markdown",
   "id": "3bdb065b-fd2a-4487-b95f-bcc4fee75370",
   "metadata": {},
   "source": [
    "OLtre che in base allo spazio si può suddividere anche con la punteggiatura"
   ]
  },
  {
   "cell_type": "code",
   "execution_count": 5,
   "id": "76a42ebc-b147-4e3a-b3f6-1c6cbf75db3a",
   "metadata": {},
   "outputs": [
    {
     "name": "stdout",
     "output_type": "stream",
     "text": [
      "['Hello', ',', '', ' ', 'world', '.', '', ' ', 'This', ',', '', ' ', 'is', ' ', 'a', ' ', 'test', '.', '']\n"
     ]
    }
   ],
   "source": [
    "result = re.split(r'([,.]|\\s)', text)\n",
    "print(result)"
   ]
  },
  {
   "cell_type": "markdown",
   "id": "e438f956-9a1e-45d1-bed8-ecfea7cdfad9",
   "metadata": {},
   "source": [
    "Da questa lista è necessario escludere il carattere spazio (\" \"). Questo dipende dall'applicazione che dovrà utilizzare i token (ad es. x il codice lo spazio è significativo)"
   ]
  },
  {
   "cell_type": "code",
   "execution_count": 6,
   "id": "cae21eb4-a3a9-4480-9b70-0d0c98a0c877",
   "metadata": {},
   "outputs": [
    {
     "name": "stdout",
     "output_type": "stream",
     "text": [
      "['Hello', ',', 'world', '.', 'This', ',', 'is', 'a', 'test', '.']\n"
     ]
    }
   ],
   "source": [
    "result = [item for item in result if item.strip()]\n",
    "print(result)"
   ]
  },
  {
   "cell_type": "markdown",
   "id": "1faee751-255d-4249-8a35-9902fb153f18",
   "metadata": {},
   "source": [
    "Infine possiamo gestire anche altri caratteri di punteggiatura"
   ]
  },
  {
   "cell_type": "code",
   "execution_count": 7,
   "id": "d158a06e-67b4-4650-8135-5a59f5ce5597",
   "metadata": {},
   "outputs": [
    {
     "name": "stdout",
     "output_type": "stream",
     "text": [
      "['Hello', ',', 'world', '.', 'Is', 'this', '--', 'a', 'test', '?']\n"
     ]
    }
   ],
   "source": [
    "text = \"Hello, world. Is this-- a test?\"\n",
    "result = re.split(r'([,.:;?_!\"()\\']|--|\\s)', text)\n",
    "result = [item.strip() for item in result if item.strip()]\n",
    "print(result)"
   ]
  },
  {
   "cell_type": "markdown",
   "id": "f6b89540-5165-4fc1-befb-04010544c4cf",
   "metadata": {},
   "source": [
    "Una volta ottenuto il nostro rudimentale tokenizer, è possibile utilizzarlo per il testo inizialmente scaricato"
   ]
  },
  {
   "cell_type": "code",
   "execution_count": 8,
   "id": "8190d4f5-865b-4f75-b095-705804a4bda7",
   "metadata": {},
   "outputs": [
    {
     "name": "stdout",
     "output_type": "stream",
     "text": [
      "4690\n"
     ]
    }
   ],
   "source": [
    "preprocessed = re.split(r'([,.:;?_!\"()\\']|--|\\s)', raw_text)\n",
    "preprocessed = [item.strip() for item in preprocessed if item.strip()]\n",
    "print(len(preprocessed))"
   ]
  },
  {
   "cell_type": "markdown",
   "id": "25403981-7971-4619-9b23-c937ee86aace",
   "metadata": {},
   "source": [
    "Visualizzo i primi 30 token"
   ]
  },
  {
   "cell_type": "code",
   "execution_count": 9,
   "id": "2b8ba033-44b8-4d34-88ec-12aa47d37a75",
   "metadata": {},
   "outputs": [
    {
     "name": "stdout",
     "output_type": "stream",
     "text": [
      "['I', 'HAD', 'always', 'thought', 'Jack', 'Gisburn', 'rather', 'a', 'cheap', 'genius', '--', 'though', 'a', 'good', 'fellow', 'enough', '--', 'so', 'it', 'was', 'no', 'great', 'surprise', 'to', 'me', 'to', 'hear', 'that', ',', 'in']\n"
     ]
    }
   ],
   "source": [
    "print(preprocessed[:30])"
   ]
  },
  {
   "cell_type": "markdown",
   "id": "a971c975-4f02-4e0b-963d-f8d6c1626034",
   "metadata": {},
   "source": [
    "# Da Stringa a Integer"
   ]
  },
  {
   "cell_type": "markdown",
   "id": "48fcf36f-bb01-4961-9810-403da2d6ddb1",
   "metadata": {},
   "source": [
    "Una volta ottenuti i token in formato stringa è necessario procedere con la conversione in formato numerico (Token ID). <BR> Questa conversione rappresenta un passaggio intermedio verso la rappresentazione \"finale\" dei token in embedding vectors.\n",
    "\n",
    "Primo step è la creazione di un vocabolary che mappi i singoli token presenti nel testo di input in formato stringa ai rispettivi token id. <br>\n",
    "A tal fine è necessario predere tutti i distinti token e sortarli alfabeticamente"
   ]
  },
  {
   "cell_type": "code",
   "execution_count": 10,
   "id": "f52cde87-3eab-4d1f-ad28-0c985d896e54",
   "metadata": {},
   "outputs": [
    {
     "name": "stdout",
     "output_type": "stream",
     "text": [
      "1130\n"
     ]
    }
   ],
   "source": [
    "all_words = sorted(set(preprocessed))\n",
    "vocab_size = len(all_words)\n",
    "print(vocab_size)"
   ]
  },
  {
   "cell_type": "markdown",
   "id": "9918e4d5-e7f0-4a65-854a-aabce6844cc8",
   "metadata": {},
   "source": [
    "Visualizzo i primi 20 token"
   ]
  },
  {
   "cell_type": "code",
   "execution_count": 11,
   "id": "d222b26d-e9ac-4c7d-9f4b-3153567a26d7",
   "metadata": {},
   "outputs": [
    {
     "name": "stdout",
     "output_type": "stream",
     "text": [
      "('!', 0)\n",
      "('\"', 1)\n",
      "(\"'\", 2)\n",
      "('(', 3)\n",
      "(')', 4)\n",
      "(',', 5)\n",
      "('--', 6)\n",
      "('.', 7)\n",
      "(':', 8)\n",
      "(';', 9)\n",
      "('?', 10)\n",
      "('A', 11)\n",
      "('Ah', 12)\n",
      "('Among', 13)\n",
      "('And', 14)\n",
      "('Are', 15)\n",
      "('Arrt', 16)\n",
      "('As', 17)\n",
      "('At', 18)\n",
      "('Be', 19)\n",
      "('Begin', 20)\n"
     ]
    }
   ],
   "source": [
    "vocab = {token:integer for integer,token in enumerate(all_words)}\n",
    "for i, item in enumerate(vocab.items()):\n",
    "    print(item)\n",
    "    if i >= 20:\n",
    "        break"
   ]
  },
  {
   "cell_type": "markdown",
   "id": "eb7d5afe-58a9-4a9b-8fa7-ede4b5333866",
   "metadata": {},
   "source": [
    "Prossimo step sarà utilizzare questa mappatura per convertire i token da formato stringa a corrispondente token id.\n",
    "\n",
    "Prima di fare questo step, creiamo una classe \"Tokenizer\" che implementi le funzionalità di :\n",
    "- encode (da stringa a id numerico)\n",
    "- decode (da id numerico a stringa)"
   ]
  },
  {
   "cell_type": "code",
   "execution_count": 12,
   "id": "0ab721ac-1586-4c50-8ec8-5276bb274e02",
   "metadata": {},
   "outputs": [],
   "source": [
    "class SimpleTokenizerV1:\n",
    "    \n",
    "    def __init__(self, vocab):\n",
    "\n",
    "        # Stores the vocabulary as a class attribute for access in the encode and decode methods \n",
    "        self.str_to_int = vocab            \n",
    "        # Creates an inverse vocabulary that maps token IDs back to the original text tokens \n",
    "        self.int_to_str = {i:s for s,i in vocab.items()}   \n",
    "\n",
    "    # Processes input text into token IDs\n",
    "    def encode(self, text):       \n",
    "        preprocessed = re.split(r'([,.?_!\"()\\']|--|\\s)', text)\n",
    "        preprocessed = [\n",
    "            item.strip() for item in preprocessed if item.strip()\n",
    "        ]\n",
    "        ids = [self.str_to_int[s] for s in preprocessed]\n",
    "        return ids\n",
    "\n",
    "    # Converts token IDs back into text \n",
    "    def decode(self, ids):         #4\n",
    "        text = \" \".join([self.int_to_str[i] for i in ids]) \n",
    "\n",
    "        text = re.sub(r'\\s+([,.?!\"()\\'])', r'\\1', text) \n",
    "        return text"
   ]
  },
  {
   "cell_type": "code",
   "execution_count": 13,
   "id": "2f2bd948-56e7-47c7-9892-c9bda649b9f6",
   "metadata": {},
   "outputs": [
    {
     "name": "stdout",
     "output_type": "stream",
     "text": [
      "[56, 2, 850, 988, 602, 533, 746, 5, 1126, 596, 5, 67, 7, 38, 851, 1108, 754, 793, 7]\n"
     ]
    }
   ],
   "source": [
    "tokenizer = SimpleTokenizerV1(vocab)\n",
    "text = \"It's the last he painted, you know, Mrs. Gisburn said with pardonable pride.\"\n",
    "ids = tokenizer.encode(text)\n",
    "print(ids)"
   ]
  },
  {
   "cell_type": "code",
   "execution_count": 14,
   "id": "adbfdd21-6bed-464d-a6f0-b41c19d56f75",
   "metadata": {},
   "outputs": [
    {
     "name": "stdout",
     "output_type": "stream",
     "text": [
      "It' s the last he painted, you know, Mrs. Gisburn said with pardonable pride.\n"
     ]
    }
   ],
   "source": [
    "print(tokenizer.decode(ids))"
   ]
  },
  {
   "cell_type": "markdown",
   "id": "736dec29-b110-461d-8ec2-19736cbc66c4",
   "metadata": {},
   "source": [
    "Questo tokenizer ha il limite che è in grado di gestire SOLO token che erano presenti nel vocabolary con il quale è stato creato (quindi nel flusso di input).<br>\n",
    "\n",
    "Step successivo sarà implementare il tokenizier appena creato al fine di poter gestire anche token non presenti nel vocab (unkown token) o token speciali per aggiungere informazioni che potrebbero essere utili alla comprensione del testo (ad es. token boundaries)\n",
    "\n",
    "Aggiungiamo quindi al volabolary:\n",
    "- <|unk|> per gestire token non presenti nel training set\n",
    "- <|endoftext|>  per separare testi non correlati (ad es diversi documenti non correlati)"
   ]
  },
  {
   "cell_type": "code",
   "execution_count": 15,
   "id": "e3ec7b17-45bb-4875-9052-e84e41e91d9a",
   "metadata": {},
   "outputs": [
    {
     "name": "stdout",
     "output_type": "stream",
     "text": [
      "1132\n"
     ]
    }
   ],
   "source": [
    "all_tokens = sorted(list(set(preprocessed)))\n",
    "all_tokens.extend([\"<|endoftext|>\", \"<|unk|>\"])\n",
    "vocab = {token:integer for integer,token in enumerate(all_tokens)}\n",
    "\n",
    "print(len(vocab.items()))"
   ]
  },
  {
   "cell_type": "markdown",
   "id": "b883b12d-c3fe-423d-8f44-d7ebbc0a7529",
   "metadata": {},
   "source": [
    "Visualizzo gli ultimi 5 elementi del vocab"
   ]
  },
  {
   "cell_type": "code",
   "execution_count": 16,
   "id": "923129e4-ecde-4d2a-ae91-4820420da727",
   "metadata": {},
   "outputs": [
    {
     "name": "stdout",
     "output_type": "stream",
     "text": [
      "('younger', 1127)\n",
      "('your', 1128)\n",
      "('yourself', 1129)\n",
      "('<|endoftext|>', 1130)\n",
      "('<|unk|>', 1131)\n"
     ]
    }
   ],
   "source": [
    "for i, item in enumerate(list(vocab.items())[-5:]):\n",
    "    print(item)"
   ]
  },
  {
   "cell_type": "markdown",
   "id": "586ec932-c4bb-447f-a59d-cd5dd9685b42",
   "metadata": {},
   "source": [
    "Creo una nuova versione della classe Tokenizer per gestire i nuovi token"
   ]
  },
  {
   "cell_type": "code",
   "execution_count": 17,
   "id": "6174f07e-1b71-485e-97f3-1cceab32b654",
   "metadata": {},
   "outputs": [],
   "source": [
    "class SimpleTokenizerV2:\n",
    "    def __init__(self, vocab):\n",
    "        self.str_to_int = vocab\n",
    "        self.int_to_str = { i:s for s,i in vocab.items()}\n",
    "\n",
    "    def encode(self, text):\n",
    "        preprocessed = re.split(r'([,.:;?_!\"()\\']|--|\\s)', text)\n",
    "        preprocessed = [\n",
    "            item.strip() for item in preprocessed if item.strip()\n",
    "        ]\n",
    "        # Replaces unknown words by <|unk|> tokens \n",
    "        preprocessed = [item if item in self.str_to_int            \n",
    "                        else \"<|unk|>\" for item in preprocessed]\n",
    "\n",
    "        ids = [self.str_to_int[s] for s in preprocessed]\n",
    "        return ids\n",
    "\n",
    "    def decode(self, ids):\n",
    "        text = \" \".join([self.int_to_str[i] for i in ids])\n",
    "\n",
    "        # Replaces spaces before the specified punctuations \n",
    "        text = re.sub(r'\\s+([,.:;?!\"()\\'])', r'\\1', text)    \n",
    "        return text\n"
   ]
  },
  {
   "cell_type": "markdown",
   "id": "e98e6b1d-c061-433f-8bdd-9a6ae1dd7c8d",
   "metadata": {},
   "source": [
    "Per testare il nuovo tokenizer crei un testo concatenando 2 frasi e inserendo lo special token <|endoftext|> tra i 2 testi"
   ]
  },
  {
   "cell_type": "code",
   "execution_count": 18,
   "id": "a3d6612d-fbde-454b-81a7-8c73e58538fb",
   "metadata": {},
   "outputs": [
    {
     "name": "stdout",
     "output_type": "stream",
     "text": [
      "Hello, do you like tea? <|endoftext|> In the sunlit terraces of the palace.\n"
     ]
    }
   ],
   "source": [
    "text1 = \"Hello, do you like tea?\"\n",
    "text2 = \"In the sunlit terraces of the palace.\"\n",
    "text = \" <|endoftext|> \".join((text1, text2))\n",
    "print(text)"
   ]
  },
  {
   "cell_type": "markdown",
   "id": "1207a7ea-6614-41fa-aeac-af84430c088e",
   "metadata": {},
   "source": [
    "Procedo con la tokenizzazione del testo concatenato"
   ]
  },
  {
   "cell_type": "code",
   "execution_count": 19,
   "id": "38b91178-bfea-4e54-b5d6-0913fa34abc9",
   "metadata": {},
   "outputs": [
    {
     "name": "stdout",
     "output_type": "stream",
     "text": [
      "[1131, 5, 355, 1126, 628, 975, 10, 1130, 55, 988, 956, 984, 722, 988, 1131, 7]\n"
     ]
    }
   ],
   "source": [
    "tokenizer = SimpleTokenizerV2(vocab)\n",
    "print(tokenizer.encode(text))"
   ]
  },
  {
   "cell_type": "markdown",
   "id": "838bb618-0b07-4ecb-bfd1-25cf96fb0372",
   "metadata": {},
   "source": [
    "Tra i token id ottenuti sono presenti sia <|endoftext|> (1130) che <|unk|> (1131).\n",
    "\n",
    "Infatti provando a riconvertire i token id in testo viene perso il contenuto originale degli UNK"
   ]
  },
  {
   "cell_type": "code",
   "execution_count": 20,
   "id": "fc96dbe4-9ff6-4837-b09b-bc1de4edc054",
   "metadata": {},
   "outputs": [
    {
     "name": "stdout",
     "output_type": "stream",
     "text": [
      "<|unk|>, do you like tea? <|endoftext|> In the sunlit terraces of the <|unk|>.\n"
     ]
    }
   ],
   "source": [
    "print(tokenizer.decode(tokenizer.encode(text)))"
   ]
  },
  {
   "cell_type": "markdown",
   "id": "2f6376b3-2d25-42a1-81ce-9af277ecbd6f",
   "metadata": {},
   "source": [
    "Il tokenizer utilizzato da GPT (BPE) non utilizza UNK ma solo <|endoftext|>"
   ]
  },
  {
   "cell_type": "markdown",
   "id": "7eba712f-67f4-4a87-bf94-03abf6e9957b",
   "metadata": {},
   "source": [
    "# BPE con TIKTOKEN\n",
    "\n",
    "E' necessario installare la libreria (pip install tiktoken)"
   ]
  },
  {
   "cell_type": "code",
   "execution_count": 21,
   "id": "69a2cfe7-56ce-446a-9ff1-fbf1c7e14a12",
   "metadata": {},
   "outputs": [
    {
     "name": "stdout",
     "output_type": "stream",
     "text": [
      "tiktoken version: 0.9.0\n"
     ]
    }
   ],
   "source": [
    "from importlib.metadata import version\n",
    "import tiktoken\n",
    "print(\"tiktoken version:\", version(\"tiktoken\"))"
   ]
  },
  {
   "cell_type": "markdown",
   "id": "6f5b3519-4753-4d91-b73f-f4c94019d74f",
   "metadata": {},
   "source": [
    "In maniera analoga a quanto fatto precedentemente con il tokenizer \"base\""
   ]
  },
  {
   "cell_type": "code",
   "execution_count": 22,
   "id": "738233ee-bcf6-4814-a8cd-2dddb1e17f97",
   "metadata": {},
   "outputs": [
    {
     "name": "stdout",
     "output_type": "stream",
     "text": [
      "[15496, 11, 466, 345, 588, 8887, 30, 220, 50256, 554, 262, 4252, 18250, 8812, 2114, 1659, 617, 34680, 27271, 13]\n"
     ]
    }
   ],
   "source": [
    "tokenizer = tiktoken.get_encoding(\"gpt2\")\n",
    "\n",
    "text = (\n",
    "    \"Hello, do you like tea? <|endoftext|> In the sunlit terraces\"\n",
    "     \"of someunknownPlace.\"\n",
    ")\n",
    "integers = tokenizer.encode(text, allowed_special={\"<|endoftext|>\"})\n",
    "print(integers)"
   ]
  },
  {
   "cell_type": "code",
   "execution_count": 23,
   "id": "11b103dc-fe1b-4090-8759-de2d387b6c8e",
   "metadata": {},
   "outputs": [
    {
     "name": "stdout",
     "output_type": "stream",
     "text": [
      "Hello, do you like tea? <|endoftext|> In the sunlit terracesof someunknownPlace.\n"
     ]
    }
   ],
   "source": [
    "strings = tokenizer.decode(integers)\n",
    "print(strings)"
   ]
  },
  {
   "cell_type": "markdown",
   "id": "8cd88b36-b679-4aa3-8be5-51853f7e5a42",
   "metadata": {},
   "source": [
    "A differenza del tokenizer base precedente, BPE è in grado di gestire gli unknown token scomponendo i token non presenti fino al livello di singolo carattere"
   ]
  },
  {
   "cell_type": "markdown",
   "id": "6c6d3509-4b16-49c5-be1f-28f896b7e2e8",
   "metadata": {},
   "source": [
    "Una volta definito il tokenizer da usare, è necessario creare il dataset con :\n",
    "- input\n",
    "- target\n",
    "\n",
    "in modo da consentire il training di un modello che preveda la parola successiva a partire da una serie di parole in input. <br>A tal fine andremo a creare un dataloader che utilizza sliding windows per creare inpu-output a partire dal nostro testo iniziale. A tal fine andiamo a tokenizzare il testo con BPE"
   ]
  },
  {
   "cell_type": "code",
   "execution_count": 24,
   "id": "850faa5c-0c9f-4036-8a18-1011d5a36dbb",
   "metadata": {},
   "outputs": [
    {
     "name": "stdout",
     "output_type": "stream",
     "text": [
      "5145\n"
     ]
    }
   ],
   "source": [
    "with open(\"the-verdict.txt\", \"r\", encoding=\"utf-8\") as f:\n",
    "    raw_text = f.read()\n",
    "\n",
    "enc_text = tokenizer.encode(raw_text)\n",
    "print(len(enc_text))"
   ]
  },
  {
   "cell_type": "markdown",
   "id": "fd6bf98b-70f8-4ace-9ad9-bcb9ed1c2db4",
   "metadata": {},
   "source": [
    "Per consentire il test andiamo ad utilizzare solo i primi 50 tokens"
   ]
  },
  {
   "cell_type": "code",
   "execution_count": 25,
   "id": "39f35e62-5dff-4955-b713-ff0513b4cdb8",
   "metadata": {},
   "outputs": [],
   "source": [
    "enc_sample = enc_text[50:]"
   ]
  },
  {
   "cell_type": "code",
   "execution_count": 26,
   "id": "59cc242d-a5a7-47d8-a3e7-11e08e821ded",
   "metadata": {},
   "outputs": [
    {
     "name": "stdout",
     "output_type": "stream",
     "text": [
      "x: [290, 4920, 2241, 287]\n",
      "y:      [4920, 2241, 287, 257]\n"
     ]
    }
   ],
   "source": [
    "# The context size determines how many tokens are included in the input.\n",
    "\n",
    "context_size = 4    \n",
    "x = enc_sample[:context_size]\n",
    "y = enc_sample[1:context_size+1]\n",
    "print(f\"x: {x}\")\n",
    "print(f\"y:      {y}\")"
   ]
  },
  {
   "cell_type": "markdown",
   "id": "3128ea79-06d8-47e6-a8e8-9b5d14f2a82a",
   "metadata": {},
   "source": [
    "E' quindi possibile, partendo dall'input, creare le coppie input --> target dove il target è il testo di input shiftato di 1.<br>\n",
    "In pratica alla sinistra della freccia c'è l'input passato al llm e a destra c'è l'output (il carattere che deve essere previsto a fronte dell'input fornito)"
   ]
  },
  {
   "cell_type": "code",
   "execution_count": 27,
   "id": "1d3f213d-d892-45f5-8c4e-a13e76d7e317",
   "metadata": {},
   "outputs": [
    {
     "name": "stdout",
     "output_type": "stream",
     "text": [
      "[290] ----> 4920\n",
      "[290, 4920] ----> 2241\n",
      "[290, 4920, 2241] ----> 287\n",
      "[290, 4920, 2241, 287] ----> 257\n"
     ]
    }
   ],
   "source": [
    "for i in range(1, context_size+1):\n",
    "    context = enc_sample[:i]\n",
    "    desired = enc_sample[i]\n",
    "    print(context, \"---->\", desired)"
   ]
  },
  {
   "cell_type": "markdown",
   "id": "b3436a98-1d6e-4416-9bc8-2ab5eb789b29",
   "metadata": {},
   "source": [
    "Convertendo da token id a stringa testuale"
   ]
  },
  {
   "cell_type": "code",
   "execution_count": 28,
   "id": "c9df4c21-9a91-487a-9844-284afc6ca28b",
   "metadata": {},
   "outputs": [
    {
     "name": "stdout",
     "output_type": "stream",
     "text": [
      " and ---->  established\n",
      " and established ---->  himself\n",
      " and established himself ---->  in\n",
      " and established himself in ---->  a\n"
     ]
    }
   ],
   "source": [
    "for i in range(1, context_size+1):\n",
    "    context = enc_sample[:i]\n",
    "    desired = enc_sample[i]\n",
    "    print(tokenizer.decode(context), \"---->\", tokenizer.decode([desired]))"
   ]
  },
  {
   "cell_type": "markdown",
   "id": "4d292911-72de-47f6-af0a-10a0666aab17",
   "metadata": {},
   "source": [
    "Una volta create le coppie di input/output è possibile utilizzarle per effettuare il training dell'llm.<br>\n",
    "Per ragioni di efficienza però, prima di poter procedere con il training, è necessario uno step di conversione di input e target in formato Pytorch Tensor<br>\n",
    "A tal fine utilizzeremo le classi Pytorch:\n",
    "- dataset\n",
    "- dataloader\n",
    "\n",
    "Creiamo quindi una classe che estende Pytorch Dataset e definisce come le singole row sono estratte dal dataset.\n",
    "In pratica ogni row è costituita da una input di lunghezza max_lenght e un target costituito dal prossimo carattere"
   ]
  },
  {
   "cell_type": "code",
   "execution_count": 29,
   "id": "92e93b1a-7aba-48a9-a15b-610c735788e0",
   "metadata": {},
   "outputs": [
    {
     "name": "stderr",
     "output_type": "stream",
     "text": [
      "/home/michele/dev/python/build_GPT/.venv/lib/python3.10/site-packages/torch/_subclasses/functional_tensor.py:275: UserWarning: Failed to initialize NumPy: No module named 'numpy' (Triggered internally at /pytorch/torch/csrc/utils/tensor_numpy.cpp:81.)\n",
      "  cpu = _conversion_method_template(device=torch.device(\"cpu\"))\n"
     ]
    }
   ],
   "source": [
    "import torch\n",
    "from torch.utils.data import Dataset, DataLoader\n",
    "\n",
    "class GPTDatasetV1(Dataset):\n",
    "    \n",
    "    def __init__(self, txt, tokenizer, max_length, stride):\n",
    "        self.input_ids = []\n",
    "        self.target_ids = []\n",
    "        \n",
    "        # Tokenizes the entire text \n",
    "        token_ids = tokenizer.encode(txt)  \n",
    "\n",
    "        # Uses a sliding window to chunk the book into overlapping sequences of max_length \n",
    "        for i in range(0, len(token_ids) - max_length, stride):    \n",
    "            input_chunk = token_ids[i:i + max_length]\n",
    "            target_chunk = token_ids[i + 1: i + max_length + 1]\n",
    "            self.input_ids.append(torch.tensor(input_chunk))\n",
    "            self.target_ids.append(torch.tensor(target_chunk))\n",
    "    \n",
    "    # Returns the total number of rows in the dataset \n",
    "    def __len__(self):  \n",
    "        return len(self.input_ids)\n",
    "\n",
    "    # Returns a single row from the dataset \n",
    "    def __getitem__(self, idx):         #4\n",
    "        return self.input_ids[idx], self.target_ids[idx]\n"
   ]
  },
  {
   "cell_type": "markdown",
   "id": "1efa8c18-0820-42cd-935e-0736a9ed75e7",
   "metadata": {},
   "source": [
    "Questo dataset verrà utilizzato per caricare i batch attraverso l'utilizzo di un Pytorch DataLoader.\n",
    "\n",
    "A tal fine definisco una funzione che genera i batch con le copie input e target"
   ]
  },
  {
   "cell_type": "code",
   "execution_count": 30,
   "id": "e188916d-625c-427d-9230-260ee08ba017",
   "metadata": {},
   "outputs": [],
   "source": [
    "def create_dataloader_v1(txt, batch_size=4, max_length=256,\n",
    "                         stride=128, shuffle=True, drop_last=True,\n",
    "                         num_workers=0):\n",
    "    # Initializes the tokenize\n",
    "    tokenizer = tiktoken.get_encoding(\"gpt2\")                       \n",
    "    # Creates dataset \n",
    "    dataset = GPTDatasetV1(txt, tokenizer, max_length, stride)   \n",
    "    dataloader = DataLoader(\n",
    "        dataset,\n",
    "        batch_size=batch_size,\n",
    "        shuffle=shuffle,\n",
    "        # drop_last=True drops the last batch if it is shorter than the specified batch_size to prevent loss spikes during training. \n",
    "        drop_last=drop_last,     \n",
    "        # The number of CPU processes to use for preprocessing \n",
    "        num_workers=num_workers    \n",
    "    )\n",
    "\n",
    "    return dataloader\n"
   ]
  },
  {
   "cell_type": "markdown",
   "id": "0e525a0d-1e2b-4022-a4f4-331b7625b319",
   "metadata": {},
   "source": [
    "Per testare questa funzione provo a invocarla con batch_size = 1 e context_size = 4"
   ]
  },
  {
   "cell_type": "code",
   "execution_count": 31,
   "id": "94918315-4a78-44cd-826c-2f3e45c0fe8d",
   "metadata": {},
   "outputs": [
    {
     "name": "stdout",
     "output_type": "stream",
     "text": [
      "[tensor([[  40,  367, 2885, 1464]]), tensor([[ 367, 2885, 1464, 1807]])]\n"
     ]
    }
   ],
   "source": [
    "with open(\"the-verdict.txt\", \"r\", encoding=\"utf-8\") as f:\n",
    "    raw_text = f.read()\n",
    "\n",
    "dataloader = create_dataloader_v1(raw_text, batch_size=1, max_length=4, stride=1, shuffle=False)\n",
    "\n",
    "#  Converts dataloader into a Python iterator to fetch the next entry via Python’s built-in next() function \n",
    "data_iter = iter(dataloader)     \n",
    "first_batch = next(data_iter)\n",
    "print(first_batch)"
   ]
  },
  {
   "cell_type": "markdown",
   "id": "4d3a733f-51ac-4400-bd25-d0f0fedf3e37",
   "metadata": {},
   "source": [
    "Il primo tensor contiene gli input token id mentre il secondo i target token id.\n",
    "\n",
    "Provo a invocare un nuovo batch per verificare a cosa serve il parametro stride (permette di implementare lo slinding window)"
   ]
  },
  {
   "cell_type": "code",
   "execution_count": 32,
   "id": "0c9f7be5-ec46-44cc-ae9b-3ba99a9686d5",
   "metadata": {},
   "outputs": [
    {
     "name": "stdout",
     "output_type": "stream",
     "text": [
      "[tensor([[ 367, 2885, 1464, 1807]]), tensor([[2885, 1464, 1807, 3619]])]\n"
     ]
    }
   ],
   "source": [
    "second_batch = next(data_iter)\n",
    "print(second_batch)"
   ]
  },
  {
   "cell_type": "markdown",
   "id": "f45c6a1e-42d3-4f2f-90fc-32d4f33a86ef",
   "metadata": {},
   "source": [
    "Per vedere l'utilizzo del dataloader con batch_size = 4 "
   ]
  },
  {
   "cell_type": "code",
   "execution_count": 33,
   "id": "be7014c5-c2c9-4076-ad76-298f7291aa3f",
   "metadata": {},
   "outputs": [
    {
     "name": "stdout",
     "output_type": "stream",
     "text": [
      "Inputs:\n",
      " tensor([[   40,   367,  2885,  1464],\n",
      "        [ 1807,  3619,   402,   271],\n",
      "        [10899,  2138,   257,  7026],\n",
      "        [15632,   438,  2016,   257],\n",
      "        [  922,  5891,  1576,   438],\n",
      "        [  568,   340,   373,   645],\n",
      "        [ 1049,  5975,   284,   502],\n",
      "        [  284,  3285,   326,    11]])\n",
      "\n",
      "Targets:\n",
      " tensor([[  367,  2885,  1464,  1807],\n",
      "        [ 3619,   402,   271, 10899],\n",
      "        [ 2138,   257,  7026, 15632],\n",
      "        [  438,  2016,   257,   922],\n",
      "        [ 5891,  1576,   438,   568],\n",
      "        [  340,   373,   645,  1049],\n",
      "        [ 5975,   284,   502,   284],\n",
      "        [ 3285,   326,    11,   287]])\n"
     ]
    }
   ],
   "source": [
    "dataloader = create_dataloader_v1(\n",
    "    raw_text, batch_size=8, max_length=4, stride=4,\n",
    "    shuffle=False\n",
    ")\n",
    "\n",
    "data_iter = iter(dataloader)\n",
    "inputs, targets = next(data_iter)\n",
    "print(\"Inputs:\\n\", inputs)\n",
    "print(\"\\nTargets:\\n\", targets)"
   ]
  },
  {
   "cell_type": "markdown",
   "id": "303a1ccb-a27f-4ddc-8056-c7750e69cfc8",
   "metadata": {},
   "source": [
    "# EMBEDDING\n",
    "Ultimo step della fase di preparazione dei dati per il training di un LLM è la conversione dei token id in embedding vectors. A tal fine è necessario inizializzare gli embeddings con valori random.\n",
    "\n",
    "Di seguito vediamo un esempio per capire come funziona il processo di embedding"
   ]
  },
  {
   "cell_type": "code",
   "execution_count": 34,
   "id": "fbfe757c-8633-4474-b5d5-98c38114c86b",
   "metadata": {},
   "outputs": [
    {
     "name": "stdout",
     "output_type": "stream",
     "text": [
      "Parameter containing:\n",
      "tensor([[ 0.3374, -0.1778, -0.1690],\n",
      "        [ 0.9178,  1.5810,  1.3010],\n",
      "        [ 1.2753, -0.2010, -0.1606],\n",
      "        [-0.4015,  0.9666, -1.1481],\n",
      "        [-1.1589,  0.3255, -0.6315],\n",
      "        [-2.8400, -0.7849, -1.4096]], requires_grad=True)\n"
     ]
    }
   ],
   "source": [
    "# Definisco un tensor di input token\n",
    "input_ids = torch.tensor([2, 3, 5, 1])\n",
    "#definisco la dimensione del vocab\n",
    "vocab_size = 6\n",
    "#definisco la dimensione dell'embedding\n",
    "output_dim = 3\n",
    "# Creo un ambedding layer con le dimensione sopra definite\n",
    "torch.manual_seed(123)\n",
    "embedding_layer = torch.nn.Embedding(vocab_size, output_dim)\n",
    "print(embedding_layer.weight)"
   ]
  },
  {
   "cell_type": "markdown",
   "id": "0bb389c6-eda9-4756-88a1-ab64d9bf0631",
   "metadata": {},
   "source": [
    "Questi sono valori random che dovranno essere ottimizzati col processo di training del LLM\n",
    "\n",
    "Ora, per ottenere l'embedding del token id 3"
   ]
  },
  {
   "cell_type": "code",
   "execution_count": 35,
   "id": "faa3c297-d608-4b22-bf4c-ab568631ba6f",
   "metadata": {},
   "outputs": [
    {
     "name": "stdout",
     "output_type": "stream",
     "text": [
      "tensor([[-0.4015,  0.9666, -1.1481]], grad_fn=<EmbeddingBackward0>)\n"
     ]
    }
   ],
   "source": [
    "print(embedding_layer(torch.tensor([3])))"
   ]
  },
  {
   "cell_type": "markdown",
   "id": "cf4397b5-5a73-4426-96e2-1f396f553e0f",
   "metadata": {},
   "source": [
    "In pratica l'embedding layer è una operazione di lookup. \n",
    "\n",
    "Per ottenere gli embeddings dei token id di esempio è quindi sufficiente passarli in input all'embedding layer"
   ]
  },
  {
   "cell_type": "code",
   "execution_count": 38,
   "id": "527a88c6-11c9-48bf-9c56-d901de0ff635",
   "metadata": {},
   "outputs": [
    {
     "name": "stdout",
     "output_type": "stream",
     "text": [
      "tensor([[ 1.2753, -0.2010, -0.1606],\n",
      "        [-0.4015,  0.9666, -1.1481],\n",
      "        [-2.8400, -0.7849, -1.4096],\n",
      "        [ 0.9178,  1.5810,  1.3010]], grad_fn=<EmbeddingBackward0>)\n"
     ]
    }
   ],
   "source": [
    "print(embedding_layer(input_ids))"
   ]
  },
  {
   "cell_type": "markdown",
   "id": "cf9f3942-29ca-46f2-a3a8-3885bd168226",
   "metadata": {},
   "source": [
    "Gli embedding così ottenuti sono però indipendenti dalla posizione del token id all'interno della sequenza di input.<br>\n",
    "Dal momento che anche il meccanismo di self attention è indipendente dalla posizione, è quindi necessario prevedere di aggiungere all'embedding l'informazione relativa alla posizione.\n",
    "\n",
    "A tal fine si può utilizzare:\n",
    "- relative positional embeddings\n",
    "- absolute positional embeddings\n",
    "Entrambi hanno l'obiettivo di aumentare la capacità dell'LLM di capire l'ordine e le relazioni tra i token"
   ]
  },
  {
   "cell_type": "markdown",
   "id": "e4106408-6421-4189-96a4-b5b6427aa3ff",
   "metadata": {},
   "source": [
    "GPT utilizza absolte positiona encoding che viene ottimizzata durante il processo di training.\n",
    "Tornando quindi alla dimensione del vocab del nostro BPE Tokenizer e con una dimensione di embedding di 256"
   ]
  },
  {
   "cell_type": "code",
   "execution_count": 39,
   "id": "63d61a0b-5cb0-455a-9284-8c8ff11a67bb",
   "metadata": {},
   "outputs": [],
   "source": [
    "vocab_size = 50257\n",
    "output_dim = 256\n",
    "token_embedding_layer = torch.nn.Embedding(vocab_size, output_dim)"
   ]
  },
  {
   "cell_type": "markdown",
   "id": "91dc0cab-4984-438a-9f5a-22ab03ab9608",
   "metadata": {},
   "source": [
    "A questo punto è possibile utilizzare il dataloader precedentemente creato e passare al token_embedding_layer dei batch di token_id.\n",
    "Dopo aver estratto i batch avremo un tensor di dimensione (batch_size, max_lenght)"
   ]
  },
  {
   "cell_type": "code",
   "execution_count": 42,
   "id": "1dbc7be3-d381-42cd-812d-26540cf823df",
   "metadata": {},
   "outputs": [
    {
     "name": "stdout",
     "output_type": "stream",
     "text": [
      "Token IDs:\n",
      " tensor([[   40,   367,  2885,  1464],\n",
      "        [ 1807,  3619,   402,   271],\n",
      "        [10899,  2138,   257,  7026],\n",
      "        [15632,   438,  2016,   257],\n",
      "        [  922,  5891,  1576,   438],\n",
      "        [  568,   340,   373,   645],\n",
      "        [ 1049,  5975,   284,   502],\n",
      "        [  284,  3285,   326,    11]])\n",
      "\n",
      "Inputs shape:\\n torch.Size([8, 4])\n"
     ]
    }
   ],
   "source": [
    "max_length = 4\n",
    "dataloader = create_dataloader_v1(\n",
    "    raw_text, batch_size=8, max_length=max_length,\n",
    "   stride=max_length, shuffle=False\n",
    ")\n",
    "data_iter = iter(dataloader)\n",
    "inputs, targets = next(data_iter)\n",
    "print(\"Token IDs:\\n\", inputs)\n",
    "print(\"\\nInputs shape:\\\\n\", inputs.shape)"
   ]
  },
  {
   "cell_type": "markdown",
   "id": "cf4668c7-d082-4389-a6ea-54b015a4f198",
   "metadata": {},
   "source": [
    " Questo tensor di token_id viene passato all'embedding layer per convertire i token_id nei corrispondenti embeddings.<br> In questo modo avremo in output un tensor in formato (Batch_size, sequence_lenght, output_dim)"
   ]
  },
  {
   "cell_type": "code",
   "execution_count": 43,
   "id": "024205c0-b90d-41ac-8c16-b33be401058a",
   "metadata": {},
   "outputs": [
    {
     "name": "stdout",
     "output_type": "stream",
     "text": [
      "torch.Size([8, 4, 256])\n"
     ]
    }
   ],
   "source": [
    "token_embeddings = token_embedding_layer(inputs)\n",
    "print(token_embeddings.shape)"
   ]
  },
  {
   "cell_type": "markdown",
   "id": "170115f7-88e7-4927-9886-6f4edad95302",
   "metadata": {},
   "source": [
    "Per gestire il positional embedding (absolute) devo utilizzare un'altro embedding layer con la stessa embedding dimension (output_dim)"
   ]
  },
  {
   "cell_type": "code",
   "execution_count": 44,
   "id": "79fcf5fd-b247-4af3-99f3-9e24c9410a9b",
   "metadata": {},
   "outputs": [
    {
     "name": "stdout",
     "output_type": "stream",
     "text": [
      "torch.Size([4, 256])\n"
     ]
    }
   ],
   "source": [
    "context_length = max_length\n",
    "pos_embedding_layer = torch.nn.Embedding(context_length, output_dim)\n",
    "pos_embeddings = pos_embedding_layer(torch.arange(context_length))\n",
    "print(pos_embeddings.shape)"
   ]
  },
  {
   "cell_type": "markdown",
   "id": "56386991-7850-4bc5-87a4-fcecc9a43e62",
   "metadata": {},
   "source": [
    "Questo positional embedding tensor può essere aggiunto al token embedding tensor"
   ]
  },
  {
   "cell_type": "code",
   "execution_count": 48,
   "id": "ca61e973-c84c-4212-bc71-ff056b9b04af",
   "metadata": {},
   "outputs": [
    {
     "name": "stdout",
     "output_type": "stream",
     "text": [
      "torch.Size([8, 4, 256])\n"
     ]
    }
   ],
   "source": [
    "input_embeddings = token_embeddings + pos_embeddings\n",
    "print(input_embeddings.shape)"
   ]
  },
  {
   "cell_type": "markdown",
   "id": "f8698239-b32a-45c9-92f1-64b28151405b",
   "metadata": {},
   "source": [
    "In questo modo si conclude il processo di preparazione dei dati per il training del LLM. <BR>\n",
    "In input al LLM andrà quindi un tensor di dimensione (Batch, context, Embedding dim)"
   ]
  },
  {
   "cell_type": "code",
   "execution_count": null,
   "id": "07cfd724-da90-418a-b3ba-320bce862015",
   "metadata": {},
   "outputs": [],
   "source": []
  }
 ],
 "metadata": {
  "kernelspec": {
   "display_name": "Python 3 (ipykernel)",
   "language": "python",
   "name": "python3"
  },
  "language_info": {
   "codemirror_mode": {
    "name": "ipython",
    "version": 3
   },
   "file_extension": ".py",
   "mimetype": "text/x-python",
   "name": "python",
   "nbconvert_exporter": "python",
   "pygments_lexer": "ipython3",
   "version": "3.10.12"
  }
 },
 "nbformat": 4,
 "nbformat_minor": 5
}
